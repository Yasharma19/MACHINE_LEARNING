{
  "nbformat": 4,
  "nbformat_minor": 0,
  "metadata": {
    "colab": {
      "provenance": []
    },
    "kernelspec": {
      "name": "python3",
      "display_name": "Python 3"
    },
    "language_info": {
      "name": "python"
    }
  },
  "cells": [
    {
      "cell_type": "markdown",
      "source": [
        "import libraries"
      ],
      "metadata": {
        "id": "P57Ekfr0CXJH"
      }
    },
    {
      "cell_type": "code",
      "source": [
        "import pandas as pd\n",
        "import numpy as np\n",
        "import matplotlib.pyplot as plt"
      ],
      "metadata": {
        "id": "KtqRRqI7CbS1"
      },
      "execution_count": null,
      "outputs": []
    },
    {
      "cell_type": "markdown",
      "source": [
        "importing dataset"
      ],
      "metadata": {
        "id": "BCuOR-DQDC7H"
      }
    },
    {
      "cell_type": "code",
      "source": [
        "dataset=pd.read_csv(\"Data.csv\")\n",
        "#separating columns as independent(First ones) and Dependent(Last ones)\n",
        "#we have to choose all the rows always by using ':'\n",
        "#:-1 means all column except last one which is dependent\n",
        "#iloc is locate indexes\n",
        "\n",
        "X=dataset.iloc[:,:-1].values    #for independent(first)\n",
        "y=dataset.iloc[:,-1].values    #for dependent(last)"
      ],
      "metadata": {
        "id": "xJvIIlAJDEoq"
      },
      "execution_count": null,
      "outputs": []
    },
    {
      "cell_type": "code",
      "source": [
        "print(X)"
      ],
      "metadata": {
        "id": "H2n6COWUFjgr",
        "colab": {
          "base_uri": "https://localhost:8080/"
        },
        "outputId": "661ccbd0-f33d-4a5b-ab69-83fbc11b0c54"
      },
      "execution_count": null,
      "outputs": [
        {
          "output_type": "stream",
          "name": "stdout",
          "text": [
            "[['France' 44.0 72000.0]\n",
            " ['Spain' 27.0 48000.0]\n",
            " ['Germany' 30.0 54000.0]\n",
            " ['Spain' 38.0 61000.0]\n",
            " ['Germany' 40.0 nan]\n",
            " ['France' 35.0 58000.0]\n",
            " ['Spain' nan 52000.0]\n",
            " ['France' 48.0 79000.0]\n",
            " ['Germany' 50.0 83000.0]\n",
            " ['France' 37.0 67000.0]]\n"
          ]
        }
      ]
    },
    {
      "cell_type": "code",
      "source": [
        "print(y)"
      ],
      "metadata": {
        "id": "hvddBqkjFjkG",
        "colab": {
          "base_uri": "https://localhost:8080/"
        },
        "outputId": "b4383eb1-baad-4318-af42-064bc4d192d3"
      },
      "execution_count": null,
      "outputs": [
        {
          "output_type": "stream",
          "name": "stdout",
          "text": [
            "['No' 'Yes' 'No' 'No' 'Yes' 'Yes' 'No' 'Yes' 'No' 'Yes']\n"
          ]
        }
      ]
    },
    {
      "cell_type": "markdown",
      "source": [
        "Taking care of missing data"
      ],
      "metadata": {
        "id": "TE0d-bjrGJ-C"
      }
    },
    {
      "cell_type": "code",
      "source": [
        "#There are 2 ways to handle missing data\n",
        "#1. Ignore\n",
        "#2. By taking an average of all the values\n",
        "\n",
        "#scikit-learn is a data science library by using SimpleImputer class and then\n",
        "#create an object of that class\n",
        "\n",
        "from sklearn.impute import SimpleImputer\n",
        "imputer=SimpleImputer(missing_values=np.nan,strategy=\"mean\")    #mean is used to take average of all values\n",
        "#Object creation\n",
        "#here nan means empty or missing values in the data\n",
        "imputer.fit(X[:,1:3])      #here X is independent values\n",
        "#give only numerical data columns in X i.e. 2nd and 3rd. Column index starts from 0\n",
        "X[:,1:3]=imputer.transform(X[:,1:3])    #Performing replacement of missing data\n"
      ],
      "metadata": {
        "id": "QiQkJmetGMj3"
      },
      "execution_count": null,
      "outputs": []
    },
    {
      "cell_type": "code",
      "source": [
        "print(X)"
      ],
      "metadata": {
        "id": "QuOkW0ajRYDf",
        "colab": {
          "base_uri": "https://localhost:8080/"
        },
        "outputId": "a68cb41f-e210-4b18-c3b2-016b3c07d06d"
      },
      "execution_count": null,
      "outputs": [
        {
          "output_type": "stream",
          "name": "stdout",
          "text": [
            "[['France' 44.0 72000.0]\n",
            " ['Spain' 27.0 48000.0]\n",
            " ['Germany' 30.0 54000.0]\n",
            " ['Spain' 38.0 61000.0]\n",
            " ['Germany' 40.0 63777.77777777778]\n",
            " ['France' 35.0 58000.0]\n",
            " ['Spain' 38.77777777777778 52000.0]\n",
            " ['France' 48.0 79000.0]\n",
            " ['Germany' 50.0 83000.0]\n",
            " ['France' 37.0 67000.0]]\n"
          ]
        }
      ]
    },
    {
      "cell_type": "markdown",
      "source": [
        "Encoding Categorical Data(Which is not in numerical form of data)"
      ],
      "metadata": {
        "id": "2sIKLU73THfF"
      }
    },
    {
      "cell_type": "markdown",
      "source": [
        "Encoding Independant Variable"
      ],
      "metadata": {
        "id": "s-wrw5XGTsUj"
      }
    },
    {
      "cell_type": "code",
      "source": [
        "#Using One Hot Encoding Method\n",
        "#in which we create different vectors like 1 0 0, 0 1 0, 0 0 1\n",
        "\n",
        "#use compose and preprocessing classes\n",
        "\n",
        "from sklearn.compose import ColumnTransformer\n",
        "from sklearn.preprocessing import OneHotEncoder\n",
        "ct=ColumnTransformer(transformers=[('encoder',OneHotEncoder(),[0])],remainder='passthrough')  #0 means only 1st column\n",
        "#transformers=3 things (kind of transformation,Class of encoding,index)\n",
        "X=np.array(ct.fit_transform(X))\n",
        "\n"
      ],
      "metadata": {
        "id": "q3WknYinTKbg"
      },
      "execution_count": null,
      "outputs": []
    },
    {
      "cell_type": "code",
      "source": [
        "print(X)"
      ],
      "metadata": {
        "id": "LY_881ziZXil",
        "colab": {
          "base_uri": "https://localhost:8080/"
        },
        "outputId": "51b58188-8ce8-4e74-c6d0-6dfb130d79b2"
      },
      "execution_count": null,
      "outputs": [
        {
          "output_type": "stream",
          "name": "stdout",
          "text": [
            "[[1.0 0.0 0.0 44.0 72000.0]\n",
            " [0.0 0.0 1.0 27.0 48000.0]\n",
            " [0.0 1.0 0.0 30.0 54000.0]\n",
            " [0.0 0.0 1.0 38.0 61000.0]\n",
            " [0.0 1.0 0.0 40.0 63777.77777777778]\n",
            " [1.0 0.0 0.0 35.0 58000.0]\n",
            " [0.0 0.0 1.0 38.77777777777778 52000.0]\n",
            " [1.0 0.0 0.0 48.0 79000.0]\n",
            " [0.0 1.0 0.0 50.0 83000.0]\n",
            " [1.0 0.0 0.0 37.0 67000.0]]\n"
          ]
        }
      ]
    },
    {
      "cell_type": "markdown",
      "source": [
        "Encoding Dependent Variable"
      ],
      "metadata": {
        "id": "-Ynt3e3TTzF0"
      }
    },
    {
      "cell_type": "code",
      "source": [
        "from sklearn.preprocessing import LabelEncoder\n",
        "le=LabelEncoder()   #Object creation\n",
        "\n",
        "y=(le.fit_transform(y))\n"
      ],
      "metadata": {
        "id": "FprTB21JT2xC"
      },
      "execution_count": null,
      "outputs": []
    },
    {
      "cell_type": "code",
      "source": [
        "print(y)"
      ],
      "metadata": {
        "id": "f4my4hyGargn",
        "colab": {
          "base_uri": "https://localhost:8080/"
        },
        "outputId": "099e697e-6a5a-49c0-e060-964b7d1cfc70"
      },
      "execution_count": null,
      "outputs": [
        {
          "output_type": "stream",
          "name": "stdout",
          "text": [
            "[0 1 0 0 1 1 0 1 0 1]\n"
          ]
        }
      ]
    },
    {
      "cell_type": "markdown",
      "source": [
        "Splitting Train and Test Data"
      ],
      "metadata": {
        "id": "-ywRyeJTdqzI"
      }
    },
    {
      "cell_type": "code",
      "source": [
        "from sklearn.model_selection import train_test_split\n",
        "X_train,X_test,y_train,y_test=train_test_split(X,y,test_size=0.2,random_state=1)\n",
        "#random_state allows us to reproduce the same train test split each time you run the code\n",
        "#Splitting into 80 Train and 20 Test data - BEST SPLITTING"
      ],
      "metadata": {
        "id": "bEFohPqedtWv"
      },
      "execution_count": null,
      "outputs": []
    },
    {
      "cell_type": "code",
      "source": [
        "print(X_train)"
      ],
      "metadata": {
        "id": "fjXkIb7IfTMb",
        "colab": {
          "base_uri": "https://localhost:8080/"
        },
        "outputId": "197dca81-7470-467a-c246-c92f1f93dc44"
      },
      "execution_count": null,
      "outputs": [
        {
          "output_type": "stream",
          "name": "stdout",
          "text": [
            "[[0.0 0.0 1.0 38.77777777777778 52000.0]\n",
            " [0.0 1.0 0.0 40.0 63777.77777777778]\n",
            " [1.0 0.0 0.0 44.0 72000.0]\n",
            " [0.0 0.0 1.0 38.0 61000.0]\n",
            " [0.0 0.0 1.0 27.0 48000.0]\n",
            " [1.0 0.0 0.0 48.0 79000.0]\n",
            " [0.0 1.0 0.0 50.0 83000.0]\n",
            " [1.0 0.0 0.0 35.0 58000.0]]\n"
          ]
        }
      ]
    },
    {
      "cell_type": "code",
      "source": [
        "print(X_test)"
      ],
      "metadata": {
        "id": "4pQuSNvSfTPX",
        "colab": {
          "base_uri": "https://localhost:8080/"
        },
        "outputId": "3da9e369-a4b5-4e4a-92d2-0e0700356c82"
      },
      "execution_count": null,
      "outputs": [
        {
          "output_type": "stream",
          "name": "stdout",
          "text": [
            "[[0.0 1.0 0.0 30.0 54000.0]\n",
            " [1.0 0.0 0.0 37.0 67000.0]]\n"
          ]
        }
      ]
    },
    {
      "cell_type": "code",
      "source": [
        "print(y_train)"
      ],
      "metadata": {
        "id": "ed30VFqbfTSG",
        "colab": {
          "base_uri": "https://localhost:8080/"
        },
        "outputId": "16a11f41-b893-4d1f-faf7-b68dff0c656d"
      },
      "execution_count": null,
      "outputs": [
        {
          "output_type": "stream",
          "name": "stdout",
          "text": [
            "[0 1 0 0 1 1 0 1]\n"
          ]
        }
      ]
    },
    {
      "cell_type": "code",
      "source": [
        "print(y_test)"
      ],
      "metadata": {
        "id": "ASHHJdMmfTUr",
        "colab": {
          "base_uri": "https://localhost:8080/"
        },
        "outputId": "9d6c2aa9-6aef-44b5-9c19-227eb5d545a4"
      },
      "execution_count": null,
      "outputs": [
        {
          "output_type": "stream",
          "name": "stdout",
          "text": [
            "[0 1]\n"
          ]
        }
      ]
    },
    {
      "cell_type": "markdown",
      "source": [
        "Feature Scaling"
      ],
      "metadata": {
        "id": "uDar5QTHgc0x"
      }
    },
    {
      "cell_type": "code",
      "source": [
        "#Feature scaling is only performed after the Splitting of Train and Test data BECAUSE\n",
        "#using StandardScaler class\n",
        "#It is not performed in Dummy Variables like Vectors which are on first thee columns of the data\n",
        "from sklearn.preprocessing import StandardScaler\n",
        "sc=StandardScaler()\n",
        "X_train[:,3:]=sc.fit_transform(X_train[:,3:])\n",
        "X_test[:,3:]=sc.transform(X_test[:,3:])"
      ],
      "metadata": {
        "id": "htBq5R_efTZy"
      },
      "execution_count": null,
      "outputs": []
    },
    {
      "cell_type": "code",
      "source": [
        "print(X_train)"
      ],
      "metadata": {
        "id": "Vb3M_i0C8WxO",
        "colab": {
          "base_uri": "https://localhost:8080/"
        },
        "outputId": "acbea2d9-adfc-495a-d654-4f82ae69be1a"
      },
      "execution_count": null,
      "outputs": [
        {
          "output_type": "stream",
          "name": "stdout",
          "text": [
            "[[0.0 0.0 1.0 -0.19159184384578545 -1.0781259408412425]\n",
            " [0.0 1.0 0.0 -0.014117293757057777 -0.07013167641635372]\n",
            " [1.0 0.0 0.0 0.566708506533324 0.633562432710455]\n",
            " [0.0 0.0 1.0 -0.30453019390224867 -0.30786617274297867]\n",
            " [0.0 0.0 1.0 -1.9018011447007988 -1.420463615551582]\n",
            " [1.0 0.0 0.0 1.1475343068237058 1.232653363453549]\n",
            " [0.0 1.0 0.0 1.4379472069688968 1.5749910381638885]\n",
            " [1.0 0.0 0.0 -0.7401495441200351 -0.5646194287757332]]\n"
          ]
        }
      ]
    },
    {
      "cell_type": "code",
      "source": [
        "print(X_test)"
      ],
      "metadata": {
        "colab": {
          "base_uri": "https://localhost:8080/"
        },
        "id": "stVrRxAB-TBG",
        "outputId": "2955956a-79f8-4b0d-aaf2-6fd601b57ef9"
      },
      "execution_count": null,
      "outputs": [
        {
          "output_type": "stream",
          "name": "stdout",
          "text": [
            "[[0.0 1.0 0.0 -1.4661817944830124 -0.9069571034860727]\n",
            " [1.0 0.0 0.0 -0.44973664397484414 0.2056403393225306]]\n"
          ]
        }
      ]
    }
  ]
}